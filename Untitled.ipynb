{
 "cells": [
  {
   "cell_type": "code",
   "execution_count": 1,
   "id": "874d69f3-78b0-4672-9502-e8760345bb7b",
   "metadata": {},
   "outputs": [
    {
     "name": "stdout",
     "output_type": "stream",
     "text": [
      "5\n"
     ]
    }
   ],
   "source": [
    "a=2\n",
    "b=3\n",
    "print(a+b)"
   ]
  },
  {
   "cell_type": "code",
   "execution_count": 2,
   "id": "5ff0828f-4a93-4026-b2a9-819b2ae79fe6",
   "metadata": {},
   "outputs": [
    {
     "data": {
      "text/plain": [
       "'TejalPowar'"
      ]
     },
     "execution_count": 2,
     "metadata": {},
     "output_type": "execute_result"
    }
   ],
   "source": [
    "string1 ='Tejal'\n",
    "string2 ='Powar'\n",
    "string1+string2"
   ]
  },
  {
   "cell_type": "code",
   "execution_count": null,
   "id": "2e5e5e16-4734-43b8-9d7d-c865a935dbc3",
   "metadata": {},
   "outputs": [],
   "source": []
  }
 ],
 "metadata": {
  "kernelspec": {
   "display_name": "Python 3 (ipykernel)",
   "language": "python",
   "name": "python3"
  },
  "language_info": {
   "codemirror_mode": {
    "name": "ipython",
    "version": 3
   },
   "file_extension": ".py",
   "mimetype": "text/x-python",
   "name": "python",
   "nbconvert_exporter": "python",
   "pygments_lexer": "ipython3",
   "version": "3.12.6"
  }
 },
 "nbformat": 4,
 "nbformat_minor": 5
}
